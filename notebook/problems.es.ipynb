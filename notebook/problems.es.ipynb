{
 "cells": [
  {
   "cell_type": "markdown",
   "id": "b967ebc8",
   "metadata": {},
   "source": [
    "# Problemas de distribución de probabilidad"
   ]
  },
  {
   "cell_type": "markdown",
   "id": "c9b71587",
   "metadata": {},
   "source": [
    "## Distribución binomial\n",
    "\n",
    "En teoría de la probabilidad y estadística, la distribución binomial es la distribución de probabilidad discreta que da sólo dos resultados posibles en un experimento; por ejemplo, al lanzar una moneda, puede salir cara o cruz."
   ]
  },
  {
   "cell_type": "code",
   "execution_count": 1,
   "id": "4eb16d6e",
   "metadata": {},
   "outputs": [],
   "source": [
    "from scipy.stats import binom\n",
    "\n",
    "# Definir todas las funciones de probabilidad relacionadas con esta distribución.\n",
    "\n",
    "def dbinom(x, size, prob = 0.5):\n",
    "    \"\"\"\n",
    "    Calcula la estimación puntual de la distribución binomial.\n",
    "    \"\"\"\n",
    "    result = binom.pmf(k = x, n = size, p = prob, loc = 0)\n",
    "\n",
    "    return result\n",
    "\n",
    "def pbinom(q, size, prob = 0.5):\n",
    "    \"\"\"\n",
    "    Calcula el acumulado de la distribución binomial.\n",
    "    \"\"\"\n",
    "    result = binom.cdf(k = q, n = size, p = prob, loc = 0)\n",
    "\n",
    "    return result\n",
    "\n",
    "def qbinom(p, size, prob = 0.5):\n",
    "    \"\"\"\n",
    "    Calcula la función cuantil a partir de la distribución binomial.\n",
    "    \"\"\"\n",
    "    result = binom.ppf(q = p, n = size, p = prob, loc = 0)\n",
    "\n",
    "    return result\n",
    "\n",
    "def rbinom(n, size, prob = 0.5):\n",
    "    \"\"\"\n",
    "    Genera variables aleatorias a partir de la distribución binomial.\n",
    "    \"\"\"\n",
    "    result = binom.rvs(n = size, p = prob, size = n)\n",
    "\n",
    "    return result"
   ]
  },
  {
   "cell_type": "code",
   "execution_count": null,
   "id": "6cf6313a",
   "metadata": {},
   "outputs": [],
   "source": [
    "# Distribución binomial(10, 0.2), dónde n = 10 es el número de ensayos y p = 0.2 es la probabilidad de éxito en un solo ensayo\n",
    "import numpy as np\n",
    "\n",
    "np.random.seed(42)\n",
    "\n",
    "print(f\"Probability that a Binomial(10, 0.2) takes the value 2: {dbinom(2, size = 10, prob = 0.2)}\")\n",
    "print(f\"Probability that a Binomial(10, 0.2) will take a value less than 2: {pbinom(2, size = 10, prob = 0.2)}\")\n",
    "print(f\"Which value of a Binomial(10, 0.2) has a cumulative probability of 0.9? {qbinom(0.9, size = 10, prob = 0.2)}\")\n",
    "print(f\"Generate 2000 random values from a Binomial(10, 0.2) distribution: {rbinom(2000, size = 10, prob = 0.2)}\")"
   ]
  },
  {
   "cell_type": "code",
   "execution_count": 3,
   "id": "69fd07da",
   "metadata": {},
   "outputs": [
    {
     "data": {
      "image/png": "[encoded data removed]",
      "text/plain": [
       "<Figure size 500x700 with 3 Axes>"
      ]
     },
     "metadata": {},
     "output_type": "display_data"
    }
   ],
   "source": [
    "import matplotlib.pyplot as plt\n",
    "\n",
    "np.random.seed(42)\n",
    "\n",
    "size = 10\n",
    "prob = 0.2\n",
    "data = rbinom(2000, size = 10, prob = 0.2)\n",
    "\n",
    "pmf = dbinom(data, size = size, prob = prob)\n",
    "cdf = pbinom(data, size = size, prob = prob)\n",
    "ppf = qbinom(data, size = size, prob = prob)\n",
    "\n",
    "fig, axis = plt.subplots(3, 1, figsize = (5, 7))\n",
    "\n",
    "axis[0].stem(data, pmf, \"r-\")\n",
    "axis[1].stem(data, cdf, \"b-\")\n",
    "axis[2].stem(data, ppf, \"g-\")\n",
    "\n",
    "# Adjust the layout\n",
    "plt.tight_layout()\n",
    "\n",
    "# Show the plot\n",
    "plt.show()"
   ]
  },
  {
   "cell_type": "markdown",
   "id": "8aa7eaa0",
   "metadata": {},
   "source": [
    "## Ejercicio 1\n",
    "\n",
    "Escriba las funciones anteriores pero para distribuciones normales y uniformes."
   ]
  },
  {
   "cell_type": "code",
   "execution_count": null,
   "id": "98d5f012",
   "metadata": {},
   "outputs": [],
   "source": [
    "# TODO\n",
    "\n",
    "from scipy.stats import norm\n",
    "\n",
    "# Definir todas las funciones de probabilidad relacionadas con esta distribución.\n",
    "# Toda la siguiente información se obtuvo de Google y de \n",
    "# https://docs.scipy.org/doc/scipy/reference/generated/scipy.stats.norm.html\n",
    "\n",
    "def dnorm(x, mu, sd):\n",
    "    \"\"\"\n",
    "    Calcula la estimación puntual de la distribución normal.\n",
    "    El siguiente método no aparece explícitamente en la documentación de norm en SciPy\n",
    "    Pero sí googleando norm.pmf\n",
    "    PMF: Probability Mass Function i.e. P(X = x)\n",
    "    \"\"\"\n",
    "    return norm.pmf(x = x, loc = mu, scale = sd)\n",
    "\n",
    "def pnorm(q, mu, sd):\n",
    "    \"\"\"\n",
    "    Calcula el acumulado de la distribución normal.\n",
    "    CDF: Cumulative Distribution Function\n",
    "    \"\"\"\n",
    "    return norm.cdf(x = q, loc = mu, scale = sd)\n",
    "\n",
    "def snorm(q, mu, sd):\n",
    "    \"\"\"\n",
    "    Calcula 1 menos el acumulado de la distribución normal.\n",
    "    SF: Survival Function\n",
    "    \"\"\"\n",
    "    return norm.sf(x = q, loc = mu, scale = sd)\n",
    "\n",
    "def qnorm(p, mu, sd):\n",
    "    \"\"\"\n",
    "    Calcula la función cuantil a partir de la distribución normal.\n",
    "    Inversa de CDF (según documentación)\n",
    "    PPF: Percent Point Function\n",
    "    \"\"\"\n",
    "    return norm.ppf(q = p, loc = mu, scale = sd)\n",
    "\n",
    "def rnorm(n, mu, sd):\n",
    "    \"\"\"\n",
    "    Genera variables aleatorias a partir de la distribución normal.\n",
    "    RVS: Random Variates\n",
    "    \"\"\"\n",
    "    return norm.rvs(loc = mu, scale = sd, size = n)"
   ]
  }
 ],
 "metadata": {
  "interpreter": {
   "hash": "0f2f6c680cf484319d387fabac80ca4ff4fc33965036e02100b3fe02600f1423"
  },
  "kernelspec": {
   "display_name": "Python 3.10.1 64-bit",
   "language": "python",
   "name": "python3"
  },
  "language_info": {
   "codemirror_mode": {
    "name": "ipython",
    "version": 3
   },
   "file_extension": ".py",
   "mimetype": "text/x-python",
   "name": "python",
   "nbconvert_exporter": "python",
   "pygments_lexer": "ipython3",
   "version": "3.12.1"
  }
 },
 "nbformat": 4,
 "nbformat_minor": 5
}
